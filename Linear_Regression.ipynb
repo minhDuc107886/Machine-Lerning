{
  "nbformat": 4,
  "nbformat_minor": 0,
  "metadata": {
    "colab": {
      "name": "Linear Regression.ipynb",
      "provenance": [],
      "authorship_tag": "ABX9TyPYJNXJs8hb+sQ+EtF1ueCf",
      "include_colab_link": true
    },
    "kernelspec": {
      "name": "python3",
      "display_name": "Python 3"
    },
    "language_info": {
      "name": "python"
    }
  },
  "cells": [
    {
      "cell_type": "markdown",
      "metadata": {
        "id": "view-in-github",
        "colab_type": "text"
      },
      "source": [
        "<a href=\"https://colab.research.google.com/github/minhDuc107886/Machine-Lerning/blob/main/Linear_Regression.ipynb\" target=\"_parent\"><img src=\"https://colab.research.google.com/assets/colab-badge.svg\" alt=\"Open In Colab\"/></a>"
      ]
    },
    {
      "cell_type": "code",
      "execution_count": 1,
      "metadata": {
        "id": "NoVpHZbTj1T9"
      },
      "outputs": [],
      "source": [
        "import tensorflow as tf \n",
        "import numpy as np\n",
        "import matplotlib.pyplot as plt\n"
      ]
    },
    {
      "cell_type": "markdown",
      "source": [
        "Cách tính hệ số bias và weight \n",
        "w\n",
        "=\n",
        "A\n",
        "†\n",
        "b\n",
        "=\n",
        "(\n",
        "¯\n",
        "X\n",
        "T\n",
        "¯\n",
        "X\n",
        ")\n",
        "†\n",
        "¯\n",
        "X\n",
        "T\n",
        "y\n",
        "với w là ma trận 2 chiều w1 =weight,w2 = bias\n",
        "\n"
      ],
      "metadata": {
        "id": "vG95GujGnVnN"
      }
    },
    {
      "cell_type": "code",
      "source": [
        "X = np.array([[147,150,153,155,158,160,163,165,168,170,173,175,178,180,183]]).T\n",
        "y = np.array([[49,50,51,52,54,56,58,59,60,62,63,64,66,67,68]]).T\n",
        "print(X.shape)\n",
        "print(y.shape)\n"
      ],
      "metadata": {
        "colab": {
          "base_uri": "https://localhost:8080/"
        },
        "id": "AXb4Lgstj-AO",
        "outputId": "53dddef8-b82a-4141-b86f-c4882e7ffdd0"
      },
      "execution_count": 15,
      "outputs": [
        {
          "output_type": "stream",
          "name": "stdout",
          "text": [
            "(15, 1)\n",
            "(15, 1)\n"
          ]
        }
      ]
    },
    {
      "cell_type": "code",
      "source": [
        "plt.scatter(X,y)\n",
        "plt.xlabel(\"Weight(kg)\")\n",
        "plt.ylabel(\"Weight(kg)\")\n",
        "plt.show()"
      ],
      "metadata": {
        "colab": {
          "base_uri": "https://localhost:8080/",
          "height": 279
        },
        "id": "hpHqjauRkDVM",
        "outputId": "83c9b09b-e4f0-44ec-f838-ce884b345cd6"
      },
      "execution_count": 16,
      "outputs": [
        {
          "output_type": "display_data",
          "data": {
            "text/plain": [
              "<Figure size 432x288 with 1 Axes>"
            ],
            "image/png": "[encoded data removed]"
          },
          "metadata": {
            "needs_background": "light"
          }
        }
      ]
    },
    {
      "cell_type": "code",
      "source": [
        "one = np.ones((X.shape[0], 1))\n",
        "Xbar = np.concatenate((one, X), axis = 1)"
      ],
      "metadata": {
        "id": "eS62ztWckLiV"
      },
      "execution_count": 17,
      "outputs": []
    },
    {
      "cell_type": "code",
      "source": [
        "one"
      ],
      "metadata": {
        "colab": {
          "base_uri": "https://localhost:8080/"
        },
        "id": "Q-m_vkNHkj5d",
        "outputId": "cf1af18e-4d83-41ba-db1f-fea94a485450"
      },
      "execution_count": 18,
      "outputs": [
        {
          "output_type": "execute_result",
          "data": {
            "text/plain": [
              "array([[1.],\n",
              "       [1.],\n",
              "       [1.],\n",
              "       [1.],\n",
              "       [1.],\n",
              "       [1.],\n",
              "       [1.],\n",
              "       [1.],\n",
              "       [1.],\n",
              "       [1.],\n",
              "       [1.],\n",
              "       [1.],\n",
              "       [1.],\n",
              "       [1.],\n",
              "       [1.]])"
            ]
          },
          "metadata": {},
          "execution_count": 18
        }
      ]
    },
    {
      "cell_type": "code",
      "source": [
        "Xbar"
      ],
      "metadata": {
        "colab": {
          "base_uri": "https://localhost:8080/"
        },
        "id": "ptMktbIak1i-",
        "outputId": "4fd10f88-84cd-4bb1-853a-ae3a0af4e6db"
      },
      "execution_count": 19,
      "outputs": [
        {
          "output_type": "execute_result",
          "data": {
            "text/plain": [
              "array([[  1., 147.],\n",
              "       [  1., 150.],\n",
              "       [  1., 153.],\n",
              "       [  1., 155.],\n",
              "       [  1., 158.],\n",
              "       [  1., 160.],\n",
              "       [  1., 163.],\n",
              "       [  1., 165.],\n",
              "       [  1., 168.],\n",
              "       [  1., 170.],\n",
              "       [  1., 173.],\n",
              "       [  1., 175.],\n",
              "       [  1., 178.],\n",
              "       [  1., 180.],\n",
              "       [  1., 183.]])"
            ]
          },
          "metadata": {},
          "execution_count": 19
        }
      ]
    },
    {
      "cell_type": "code",
      "source": [
        "A = np.dot(Xbar.T, Xbar)"
      ],
      "metadata": {
        "id": "OF_A89Erk9Cj"
      },
      "execution_count": 20,
      "outputs": []
    },
    {
      "cell_type": "code",
      "source": [
        "B = np.dot(Xbar.T, y)"
      ],
      "metadata": {
        "id": "Ck4FJT0klD_L"
      },
      "execution_count": 24,
      "outputs": []
    },
    {
      "cell_type": "code",
      "source": [
        "w = np.dot(np.linalg.pinv(A),B)"
      ],
      "metadata": {
        "id": "zrdzoCh4lpVL"
      },
      "execution_count": 25,
      "outputs": []
    },
    {
      "cell_type": "code",
      "source": [
        "w.shape"
      ],
      "metadata": {
        "colab": {
          "base_uri": "https://localhost:8080/"
        },
        "id": "T_ntCIc1mIvy",
        "outputId": "ac4701db-361a-4c3b-9fc9-e25a0586b7fb"
      },
      "execution_count": 26,
      "outputs": [
        {
          "output_type": "execute_result",
          "data": {
            "text/plain": [
              "(2, 1)"
            ]
          },
          "metadata": {},
          "execution_count": 26
        }
      ]
    },
    {
      "cell_type": "code",
      "source": [
        "w_0 = w[0][0]\n",
        "w_1 = w[1][0]"
      ],
      "metadata": {
        "id": "pabQzgSznAnn"
      },
      "execution_count": 30,
      "outputs": []
    },
    {
      "cell_type": "code",
      "source": [
        "# cân nặng = w_1*chiều cao + w_0\n",
        "x0 = np.linspace(145,185,2)"
      ],
      "metadata": {
        "id": "nd56ll1MmJzG"
      },
      "execution_count": 28,
      "outputs": []
    },
    {
      "cell_type": "code",
      "source": [
        "x0"
      ],
      "metadata": {
        "colab": {
          "base_uri": "https://localhost:8080/"
        },
        "id": "Bftf1S_km0Ih",
        "outputId": "2a9697e3-e35f-44f1-952b-1f7eb1e1cbdd"
      },
      "execution_count": 29,
      "outputs": [
        {
          "output_type": "execute_result",
          "data": {
            "text/plain": [
              "array([145., 185.])"
            ]
          },
          "metadata": {},
          "execution_count": 29
        }
      ]
    },
    {
      "cell_type": "code",
      "source": [
        "y0 = w_0 + w_1*x0"
      ],
      "metadata": {
        "id": "lYf1kJ-ym0_f"
      },
      "execution_count": 31,
      "outputs": []
    },
    {
      "cell_type": "code",
      "source": [
        "plt.plot(X.T, y.T, 'ro')     # data \n",
        "plt.plot(x0, y0)               # the fitting line\n",
        "plt.xlabel('Height (cm)')\n",
        "plt.ylabel('Weight (kg)')\n",
        "plt.show()"
      ],
      "metadata": {
        "colab": {
          "base_uri": "https://localhost:8080/",
          "height": 279
        },
        "id": "BoQveUvHnEjt",
        "outputId": "6f9feb5b-2e74-4c93-8433-deb1e5d3ebe7"
      },
      "execution_count": 32,
      "outputs": [
        {
          "output_type": "display_data",
          "data": {
            "text/plain": [
              "<Figure size 432x288 with 1 Axes>"
            ],
            "image/png": "[encoded data removed]"
          },
          "metadata": {
            "needs_background": "light"
          }
        }
      ]
    },
    {
      "cell_type": "markdown",
      "source": [
        "**Sử dụng scikit_learn** \n"
      ],
      "metadata": {
        "id": "Ni4WbJTvn-pG"
      }
    },
    {
      "cell_type": "code",
      "source": [
        "from sklearn import datasets, linear_model\n",
        "\n",
        "# fit the model by Linear Regression\n",
        "regr = linear_model.LinearRegression(fit_intercept=False) # fit_intercept = False for calculating the bias\n",
        "regr.fit(Xbar, y)\n",
        "\n",
        "# Compare two results\n",
        "print( 'Solution found by scikit-learn  : ', regr.coef_ )\n",
        "print( 'Solution found by (5): ', w.T)"
      ],
      "metadata": {
        "colab": {
          "base_uri": "https://localhost:8080/"
        },
        "id": "tUgAH8T8oDgd",
        "outputId": "aa309956-690c-4e62-a25e-65da5a61d706"
      },
      "execution_count": 33,
      "outputs": [
        {
          "output_type": "stream",
          "name": "stdout",
          "text": [
            "Solution found by scikit-learn  :  [[-34.54231975   0.56381549]]\n",
            "Solution found by (5):  [[-34.54231975   0.56381549]]\n"
          ]
        }
      ]
    }
  ]
}